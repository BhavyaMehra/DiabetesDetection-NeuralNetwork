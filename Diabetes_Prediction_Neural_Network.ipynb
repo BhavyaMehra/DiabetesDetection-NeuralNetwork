{
 "cells": [
  {
   "cell_type": "markdown",
   "id": "ad596569",
   "metadata": {},
   "source": [
    "# Project Overview\n",
    "\n",
    "This project is dedicated to the prediction of diabetes, specifically, the presence or absence of diabetes in individuals. Our approach is rooted in the realm of machine learning, providing a systematic and comprehensive framework.\n",
    "\n",
    "## Methodology\n",
    "\n",
    "Our methodology is built upon a well-structured workflow that harmoniously integrates several vital components:\n",
    "\n",
    "1. **Data Preprocessing**: We commence by preparing our dataset, ensuring it is clean, properly formatted, and ready for analysis.\n",
    "\n",
    "2. **Exploratory Data Analysis (EDA)**: The project proceeds with a thorough exploration of the dataset. EDA allows us to uncover patterns, insights, and relationships within the data.\n",
    "\n",
    "3. **Development of a Neural Network Model**: The core of our project lies in the creation and training of a neural network model. This model is designed to harness the power of machine learning to make accurate predictions regarding diabetes.\n",
    "\n",
    "By following this systematic workflow, we aim to achieve accurate predictions and gain valuable insights into the factors contributing to diabetes.\n",
    "\n",
    "This project not only showcases the predictive capabilities of machine learning but also serves as a testament to the importance of data preprocessing and exploratory data analysis in building robust models for real-world problems.\n"
   ]
  },
  {
   "cell_type": "markdown",
   "id": "eb7b0f1d",
   "metadata": {},
   "source": [
    "## Importing Libraries and Dataset\n",
    "\n",
    "In this project, we begin by importing the necessary Python libraries and loading the dataset. These libraries serve as the foundation for our data analysis and machine learning tasks. The dataset, 'diabetes.csv,' contains valuable information related to diabetes that we will use for our analysis and predictions.\n",
    "\n",
    "Let's start by importing the essential libraries:"
   ]
  },
  {
   "cell_type": "code",
   "execution_count": 1,
   "id": "86656c5c",
   "metadata": {},
   "outputs": [],
   "source": [
    "import pandas as pd\n",
    "import numpy as np\n",
    "import matplotlib.pyplot as plt\n",
    "\n",
    "import tensorflow as tf\n",
    "import tensorflow_hub as hub\n",
    "\n",
    "from sklearn.model_selection import train_test_split\n",
    "from sklearn.preprocessing import StandardScaler\n",
    "from imblearn.over_sampling import RandomOverSampler"
   ]
  },
  {
   "cell_type": "code",
   "execution_count": 2,
   "id": "4a5c149a",
   "metadata": {},
   "outputs": [],
   "source": [
    "# Read the 'diabetes.csv' file and create a Pandas DataFrame.\n",
    "\n",
    "df = pd.read_csv('diabetes.csv')"
   ]
  },
  {
   "cell_type": "code",
   "execution_count": 3,
   "id": "84f87f02",
   "metadata": {},
   "outputs": [
    {
     "data": {
      "text/plain": [
       "Index(['Pregnancies', 'Glucose', 'BloodPressure', 'SkinThickness', 'Insulin',\n",
       "       'BMI', 'DiabetesPedigreeFunction', 'Age', 'Outcome'],\n",
       "      dtype='object')"
      ]
     },
     "execution_count": 3,
     "metadata": {},
     "output_type": "execute_result"
    }
   ],
   "source": [
    "df.columns"
   ]
  },
  {
   "cell_type": "code",
   "execution_count": 4,
   "id": "1e488045",
   "metadata": {},
   "outputs": [
    {
     "data": {
      "text/plain": [
       "(768, 9)"
      ]
     },
     "execution_count": 4,
     "metadata": {},
     "output_type": "execute_result"
    }
   ],
   "source": [
    "df.shape"
   ]
  },
  {
   "cell_type": "markdown",
   "id": "1b201cac",
   "metadata": {},
   "source": [
    "## Exploratory Data Analysis (EDA)\n"
   ]
  },
  {
   "cell_type": "code",
   "execution_count": 5,
   "id": "d4b2a987",
   "metadata": {},
   "outputs": [
    {
     "data": {
      "text/html": [
       "<div>\n",
       "<style scoped>\n",
       "    .dataframe tbody tr th:only-of-type {\n",
       "        vertical-align: middle;\n",
       "    }\n",
       "\n",
       "    .dataframe tbody tr th {\n",
       "        vertical-align: top;\n",
       "    }\n",
       "\n",
       "    .dataframe thead th {\n",
       "        text-align: right;\n",
       "    }\n",
       "</style>\n",
       "<table border=\"1\" class=\"dataframe\">\n",
       "  <thead>\n",
       "    <tr style=\"text-align: right;\">\n",
       "      <th></th>\n",
       "      <th>Pregnancies</th>\n",
       "      <th>Glucose</th>\n",
       "      <th>BloodPressure</th>\n",
       "      <th>SkinThickness</th>\n",
       "      <th>Insulin</th>\n",
       "      <th>BMI</th>\n",
       "      <th>DiabetesPedigreeFunction</th>\n",
       "      <th>Age</th>\n",
       "      <th>Outcome</th>\n",
       "    </tr>\n",
       "  </thead>\n",
       "  <tbody>\n",
       "    <tr>\n",
       "      <th>0</th>\n",
       "      <td>6</td>\n",
       "      <td>148</td>\n",
       "      <td>72</td>\n",
       "      <td>35</td>\n",
       "      <td>0</td>\n",
       "      <td>33.6</td>\n",
       "      <td>0.627</td>\n",
       "      <td>50</td>\n",
       "      <td>1</td>\n",
       "    </tr>\n",
       "    <tr>\n",
       "      <th>1</th>\n",
       "      <td>1</td>\n",
       "      <td>85</td>\n",
       "      <td>66</td>\n",
       "      <td>29</td>\n",
       "      <td>0</td>\n",
       "      <td>26.6</td>\n",
       "      <td>0.351</td>\n",
       "      <td>31</td>\n",
       "      <td>0</td>\n",
       "    </tr>\n",
       "    <tr>\n",
       "      <th>2</th>\n",
       "      <td>8</td>\n",
       "      <td>183</td>\n",
       "      <td>64</td>\n",
       "      <td>0</td>\n",
       "      <td>0</td>\n",
       "      <td>23.3</td>\n",
       "      <td>0.672</td>\n",
       "      <td>32</td>\n",
       "      <td>1</td>\n",
       "    </tr>\n",
       "    <tr>\n",
       "      <th>3</th>\n",
       "      <td>1</td>\n",
       "      <td>89</td>\n",
       "      <td>66</td>\n",
       "      <td>23</td>\n",
       "      <td>94</td>\n",
       "      <td>28.1</td>\n",
       "      <td>0.167</td>\n",
       "      <td>21</td>\n",
       "      <td>0</td>\n",
       "    </tr>\n",
       "    <tr>\n",
       "      <th>4</th>\n",
       "      <td>0</td>\n",
       "      <td>137</td>\n",
       "      <td>40</td>\n",
       "      <td>35</td>\n",
       "      <td>168</td>\n",
       "      <td>43.1</td>\n",
       "      <td>2.288</td>\n",
       "      <td>33</td>\n",
       "      <td>1</td>\n",
       "    </tr>\n",
       "  </tbody>\n",
       "</table>\n",
       "</div>"
      ],
      "text/plain": [
       "   Pregnancies  Glucose  BloodPressure  SkinThickness  Insulin   BMI  \\\n",
       "0            6      148             72             35        0  33.6   \n",
       "1            1       85             66             29        0  26.6   \n",
       "2            8      183             64              0        0  23.3   \n",
       "3            1       89             66             23       94  28.1   \n",
       "4            0      137             40             35      168  43.1   \n",
       "\n",
       "   DiabetesPedigreeFunction  Age  Outcome  \n",
       "0                     0.627   50        1  \n",
       "1                     0.351   31        0  \n",
       "2                     0.672   32        1  \n",
       "3                     0.167   21        0  \n",
       "4                     2.288   33        1  "
      ]
     },
     "execution_count": 5,
     "metadata": {},
     "output_type": "execute_result"
    }
   ],
   "source": [
    "df.head()"
   ]
  },
  {
   "cell_type": "code",
   "execution_count": 6,
   "id": "b8e81beb",
   "metadata": {},
   "outputs": [
    {
     "data": {
      "text/plain": [
       "(268, 500)"
      ]
     },
     "execution_count": 6,
     "metadata": {},
     "output_type": "execute_result"
    }
   ],
   "source": [
    "len(df[df['Outcome'] == 1]), len(df[df['Outcome'] == 0])"
   ]
  },
  {
   "cell_type": "code",
   "execution_count": 7,
   "id": "7f6bb791",
   "metadata": {
    "scrolled": false
   },
   "outputs": [
    {
     "data": {
      "image/png": "[encoded data removed]",
      "text/plain": [
       "<Figure size 432x288 with 1 Axes>"
      ]
     },
     "metadata": {
      "needs_background": "light"
     },
     "output_type": "display_data"
    },
    {
     "data": {
      "image/png": "[encoded data removed]",
      "text/plain": [
       "<Figure size 432x288 with 1 Axes>"
      ]
     },
     "metadata": {
      "needs_background": "light"
     },
     "output_type": "display_data"
    },
    {
     "data": {
      "image/png": "[encoded data removed]",
      "text/plain": [
       "<Figure size 432x288 with 1 Axes>"
      ]
     },
     "metadata": {
      "needs_background": "light"
     },
     "output_type": "display_data"
    },
    {
     "data": {
      "image/png": "[encoded data removed]",
      "text/plain": [
       "<Figure size 432x288 with 1 Axes>"
      ]
     },
     "metadata": {
      "needs_background": "light"
     },
     "output_type": "display_data"
    },
    {
     "data": {
      "image/png": "[encoded data removed]",
      "text/plain": [
       "<Figure size 432x288 with 1 Axes>"
      ]
     },
     "metadata": {
      "needs_background": "light"
     },
     "output_type": "display_data"
    },
    {
     "data": {
      "image/png": "[encoded data removed]",
      "text/plain": [
       "<Figure size 432x288 with 1 Axes>"
      ]
     },
     "metadata": {
      "needs_background": "light"
     },
     "output_type": "display_data"
    },
    {
     "data": {
      "image/png": "[encoded data removed]",
      "text/plain": [
       "<Figure size 432x288 with 1 Axes>"
      ]
     },
     "metadata": {
      "needs_background": "light"
     },
     "output_type": "display_data"
    },
    {
     "data": {
      "image/png": "[encoded data removed]",
      "text/plain": [
       "<Figure size 432x288 with 1 Axes>"
      ]
     },
     "metadata": {
      "needs_background": "light"
     },
     "output_type": "display_data"
    }
   ],
   "source": [
    "# Creating histograms for each feature.\n",
    "\n",
    "for i in range(len(df.columns[:-1])):\n",
    "    label = df.columns[i]\n",
    "    \n",
    "    # Create histograms for diabetes cases (Outcome == 1) and no diabetes cases (Outcome == 0).\n",
    "    plt.hist(df[df['Outcome'] == 1][label], color='blue', label='Diabetes', alpha=0.7, density=True)\n",
    "    plt.hist(df[df['Outcome'] == 0][label], color='red', label='No Diabetes', alpha=0.7, density=True)\n",
    "    plt.title(label)\n",
    "    plt.xlabel(label)\n",
    "    plt.ylabel('Probability')\n",
    "    plt.legend()\n",
    "    plt.show()\n"
   ]
  },
  {
   "cell_type": "markdown",
   "id": "6ee83037",
   "metadata": {},
   "source": [
    "## Data Scaling with StandardScaler\n",
    "\n",
    "We standardized the variables in our dataset due to their varying scales. Standardization is a crucial preprocessing step that ensures all features have a similar scale. This uniformity is essential for enhancing the stability and convergence of our neural network model during training."
   ]
  },
  {
   "cell_type": "code",
   "execution_count": 8,
   "id": "2ba0ad1f",
   "metadata": {},
   "outputs": [],
   "source": [
    "X = df[df.columns[:-1]].values\n",
    "y = df[df.columns[-1]].values"
   ]
  },
  {
   "cell_type": "code",
   "execution_count": 9,
   "id": "da9bf7fb",
   "metadata": {},
   "outputs": [],
   "source": [
    "scaler = StandardScaler()\n",
    "X = scaler.fit_transform(X)"
   ]
  },
  {
   "cell_type": "code",
   "execution_count": 10,
   "id": "6c02ea19",
   "metadata": {
    "scrolled": true
   },
   "outputs": [],
   "source": [
    "# Horizontally stack (hstack) combines features with reshaped target variable 'y'.\n",
    "# Reshaping is done to match dimensions of both X and y.\n",
    "\n",
    "data = np.hstack((X, np.reshape(y, (-1,1))))\n",
    "transformed_df = pd.DataFrame(data, columns=df.columns)"
   ]
  },
  {
   "cell_type": "code",
   "execution_count": 11,
   "id": "2a75e9d4",
   "metadata": {
    "scrolled": false
   },
   "outputs": [
    {
     "data": {
      "image/png": "[encoded data removed]",
      "text/plain": [
       "<Figure size 432x288 with 1 Axes>"
      ]
     },
     "metadata": {
      "needs_background": "light"
     },
     "output_type": "display_data"
    },
    {
     "data": {
      "image/png": "[encoded data removed]",
      "text/plain": [
       "<Figure size 432x288 with 1 Axes>"
      ]
     },
     "metadata": {
      "needs_background": "light"
     },
     "output_type": "display_data"
    },
    {
     "data": {
      "image/png": "[encoded data removed]",
      "text/plain": [
       "<Figure size 432x288 with 1 Axes>"
      ]
     },
     "metadata": {
      "needs_background": "light"
     },
     "output_type": "display_data"
    },
    {
     "data": {
      "image/png": "[encoded data removed]",
      "text/plain": [
       "<Figure size 432x288 with 1 Axes>"
      ]
     },
     "metadata": {
      "needs_background": "light"
     },
     "output_type": "display_data"
    },
    {
     "data": {
      "image/png": "[encoded data removed]",
      "text/plain": [
       "<Figure size 432x288 with 1 Axes>"
      ]
     },
     "metadata": {
      "needs_background": "light"
     },
     "output_type": "display_data"
    },
    {
     "data": {
      "image/png": "[encoded data removed]",
      "text/plain": [
       "<Figure size 432x288 with 1 Axes>"
      ]
     },
     "metadata": {
      "needs_background": "light"
     },
     "output_type": "display_data"
    },
    {
     "data": {
      "image/png": "[encoded data removed]",
      "text/plain": [
       "<Figure size 432x288 with 1 Axes>"
      ]
     },
     "metadata": {
      "needs_background": "light"
     },
     "output_type": "display_data"
    },
    {
     "data": {
      "image/png": "[encoded data removed]",
      "text/plain": [
       "<Figure size 432x288 with 1 Axes>"
      ]
     },
     "metadata": {
      "needs_background": "light"
     },
     "output_type": "display_data"
    }
   ],
   "source": [
    "# Create histograms for each feature and compare the distribution of values for diabetes and no diabetes cases.\n",
    "\n",
    "for i in range(len(transformed_df.columns[:-1])):\n",
    "    label = transformed_df.columns[i]\n",
    "    \n",
    "    # Create histograms for diabetes cases (Outcome == 1) and no diabetes cases (Outcome == 0).\n",
    "    plt.hist(transformed_df[transformed_df['Outcome'] == 1][label], color='blue', label='Diabetes', alpha=0.7, density=True)\n",
    "    plt.hist(transformed_df[transformed_df['Outcome'] == 0][label], color='red', label='No Diabetes', alpha=0.7, density=True)\n",
    "    plt.title(label)\n",
    "    plt.xlabel(label)\n",
    "    plt.ylabel('Probability')\n",
    "    plt.legend()\n",
    "    plt.show()\n"
   ]
  },
  {
   "cell_type": "markdown",
   "id": "a48d6a78",
   "metadata": {},
   "source": [
    "## Balancing the Dataset to Address Class Imbalance\n"
   ]
  },
  {
   "cell_type": "code",
   "execution_count": 12,
   "id": "17b4a3b4",
   "metadata": {},
   "outputs": [
    {
     "data": {
      "text/plain": [
       "(268, 500)"
      ]
     },
     "execution_count": 12,
     "metadata": {},
     "output_type": "execute_result"
    }
   ],
   "source": [
    "# Count of 'Diabetes' or 'No Diabetes' patients currently\n",
    "\n",
    "len(transformed_df[transformed_df.Outcome == 1]), len(transformed_df[transformed_df.Outcome == 0])"
   ]
  },
  {
   "cell_type": "markdown",
   "id": "400ef3ab",
   "metadata": {},
   "source": [
    "#### Class Imbalance\n",
    "\n",
    "With 268 'Diabetes' and 500 'No Diabetes' cases in our dataset, addressing class imbalance is crucial for balanced neural network training.\n"
   ]
  },
  {
   "cell_type": "code",
   "execution_count": 13,
   "id": "ec921bf5",
   "metadata": {},
   "outputs": [],
   "source": [
    "# Perform random oversampling to balance the dataset.\n",
    "# Create a new DataFrame 'transformed_df' with the balanced data.\n",
    "\n",
    "over = RandomOverSampler()\n",
    "\n",
    "X, y = over.fit_resample(X, y)\n",
    "data = np.hstack((X, np.reshape(y, (-1,1))))\n",
    "transformed_df = pd.DataFrame(data, columns=df.columns)"
   ]
  },
  {
   "cell_type": "code",
   "execution_count": 14,
   "id": "5f7c9571",
   "metadata": {},
   "outputs": [
    {
     "data": {
      "text/plain": [
       "(500, 500)"
      ]
     },
     "execution_count": 14,
     "metadata": {},
     "output_type": "execute_result"
    }
   ],
   "source": [
    "# Count of patients after rebalancing\n",
    "\n",
    "len(transformed_df[transformed_df.Outcome == 1]), len(transformed_df[transformed_df.Outcome == 0])"
   ]
  },
  {
   "cell_type": "code",
   "execution_count": 15,
   "id": "a84a6a1f",
   "metadata": {},
   "outputs": [
    {
     "data": {
      "text/html": [
       "<div>\n",
       "<style scoped>\n",
       "    .dataframe tbody tr th:only-of-type {\n",
       "        vertical-align: middle;\n",
       "    }\n",
       "\n",
       "    .dataframe tbody tr th {\n",
       "        vertical-align: top;\n",
       "    }\n",
       "\n",
       "    .dataframe thead th {\n",
       "        text-align: right;\n",
       "    }\n",
       "</style>\n",
       "<table border=\"1\" class=\"dataframe\">\n",
       "  <thead>\n",
       "    <tr style=\"text-align: right;\">\n",
       "      <th></th>\n",
       "      <th>Pregnancies</th>\n",
       "      <th>Glucose</th>\n",
       "      <th>BloodPressure</th>\n",
       "      <th>SkinThickness</th>\n",
       "      <th>Insulin</th>\n",
       "      <th>BMI</th>\n",
       "      <th>DiabetesPedigreeFunction</th>\n",
       "      <th>Age</th>\n",
       "      <th>Outcome</th>\n",
       "    </tr>\n",
       "  </thead>\n",
       "  <tbody>\n",
       "    <tr>\n",
       "      <th>count</th>\n",
       "      <td>1000.000000</td>\n",
       "      <td>1000.000000</td>\n",
       "      <td>1000.000000</td>\n",
       "      <td>1000.000000</td>\n",
       "      <td>1000.000000</td>\n",
       "      <td>1000.000000</td>\n",
       "      <td>1000.000000</td>\n",
       "      <td>1000.000000</td>\n",
       "      <td>1000.00000</td>\n",
       "    </tr>\n",
       "    <tr>\n",
       "      <th>mean</th>\n",
       "      <td>0.057299</td>\n",
       "      <td>0.143575</td>\n",
       "      <td>0.010729</td>\n",
       "      <td>0.012580</td>\n",
       "      <td>0.028953</td>\n",
       "      <td>0.087120</td>\n",
       "      <td>0.044905</td>\n",
       "      <td>0.066804</td>\n",
       "      <td>0.50000</td>\n",
       "    </tr>\n",
       "    <tr>\n",
       "      <th>std</th>\n",
       "      <td>1.017009</td>\n",
       "      <td>1.028253</td>\n",
       "      <td>1.020329</td>\n",
       "      <td>1.013762</td>\n",
       "      <td>1.028412</td>\n",
       "      <td>0.973746</td>\n",
       "      <td>1.014694</td>\n",
       "      <td>0.985482</td>\n",
       "      <td>0.50025</td>\n",
       "    </tr>\n",
       "    <tr>\n",
       "      <th>min</th>\n",
       "      <td>-1.141852</td>\n",
       "      <td>-3.783654</td>\n",
       "      <td>-3.572597</td>\n",
       "      <td>-1.288212</td>\n",
       "      <td>-0.692891</td>\n",
       "      <td>-4.060474</td>\n",
       "      <td>-1.189553</td>\n",
       "      <td>-1.041549</td>\n",
       "      <td>0.00000</td>\n",
       "    </tr>\n",
       "    <tr>\n",
       "      <th>25%</th>\n",
       "      <td>-0.844885</td>\n",
       "      <td>-0.591345</td>\n",
       "      <td>-0.263941</td>\n",
       "      <td>-1.288212</td>\n",
       "      <td>-0.692891</td>\n",
       "      <td>-0.506735</td>\n",
       "      <td>-0.673868</td>\n",
       "      <td>-0.701198</td>\n",
       "      <td>0.00000</td>\n",
       "    </tr>\n",
       "    <tr>\n",
       "      <th>50%</th>\n",
       "      <td>-0.250952</td>\n",
       "      <td>0.050247</td>\n",
       "      <td>0.149641</td>\n",
       "      <td>0.217261</td>\n",
       "      <td>-0.536598</td>\n",
       "      <td>0.089785</td>\n",
       "      <td>-0.269927</td>\n",
       "      <td>-0.190672</td>\n",
       "      <td>0.50000</td>\n",
       "    </tr>\n",
       "    <tr>\n",
       "      <th>75%</th>\n",
       "      <td>0.639947</td>\n",
       "      <td>0.785730</td>\n",
       "      <td>0.563223</td>\n",
       "      <td>0.781814</td>\n",
       "      <td>0.479300</td>\n",
       "      <td>0.648230</td>\n",
       "      <td>0.530404</td>\n",
       "      <td>0.660206</td>\n",
       "      <td>1.00000</td>\n",
       "    </tr>\n",
       "    <tr>\n",
       "      <th>max</th>\n",
       "      <td>3.906578</td>\n",
       "      <td>2.444478</td>\n",
       "      <td>2.734528</td>\n",
       "      <td>4.921866</td>\n",
       "      <td>6.652839</td>\n",
       "      <td>4.455807</td>\n",
       "      <td>5.883565</td>\n",
       "      <td>4.063716</td>\n",
       "      <td>1.00000</td>\n",
       "    </tr>\n",
       "  </tbody>\n",
       "</table>\n",
       "</div>"
      ],
      "text/plain": [
       "       Pregnancies      Glucose  BloodPressure  SkinThickness      Insulin  \\\n",
       "count  1000.000000  1000.000000    1000.000000    1000.000000  1000.000000   \n",
       "mean      0.057299     0.143575       0.010729       0.012580     0.028953   \n",
       "std       1.017009     1.028253       1.020329       1.013762     1.028412   \n",
       "min      -1.141852    -3.783654      -3.572597      -1.288212    -0.692891   \n",
       "25%      -0.844885    -0.591345      -0.263941      -1.288212    -0.692891   \n",
       "50%      -0.250952     0.050247       0.149641       0.217261    -0.536598   \n",
       "75%       0.639947     0.785730       0.563223       0.781814     0.479300   \n",
       "max       3.906578     2.444478       2.734528       4.921866     6.652839   \n",
       "\n",
       "               BMI  DiabetesPedigreeFunction          Age     Outcome  \n",
       "count  1000.000000               1000.000000  1000.000000  1000.00000  \n",
       "mean      0.087120                  0.044905     0.066804     0.50000  \n",
       "std       0.973746                  1.014694     0.985482     0.50025  \n",
       "min      -4.060474                 -1.189553    -1.041549     0.00000  \n",
       "25%      -0.506735                 -0.673868    -0.701198     0.00000  \n",
       "50%       0.089785                 -0.269927    -0.190672     0.50000  \n",
       "75%       0.648230                  0.530404     0.660206     1.00000  \n",
       "max       4.455807                  5.883565     4.063716     1.00000  "
      ]
     },
     "execution_count": 15,
     "metadata": {},
     "output_type": "execute_result"
    }
   ],
   "source": [
    "transformed_df.describe()"
   ]
  },
  {
   "cell_type": "markdown",
   "id": "22d33707",
   "metadata": {},
   "source": [
    "----\n",
    "\n",
    "## Model Development and Evaluation\n"
   ]
  },
  {
   "cell_type": "code",
   "execution_count": 16,
   "id": "0e5fc0cf",
   "metadata": {},
   "outputs": [],
   "source": [
    "# Split data into training, validation and testing sets of 60:20:20 ratio.\n",
    "\n",
    "X_train, X_temp, y_train, y_temp = train_test_split(X,y, test_size=0.4, random_state=0)\n",
    "X_val, X_test, y_val, y_test = train_test_split(X_temp, y_temp, test_size=0.5, random_state=0)"
   ]
  },
  {
   "cell_type": "code",
   "execution_count": 17,
   "id": "50dea97d",
   "metadata": {},
   "outputs": [],
   "source": [
    "# Define a sequential neural network model with the following architecture:\n",
    "\n",
    "model = tf.keras.Sequential([\n",
    "                            tf.keras.layers.Dense(16, activation='relu'), # - Input layer with 16 units\n",
    "                            tf.keras.layers.Dense(16, activation='relu'), # - Hidden layer with 16 units\n",
    "                            tf.keras.layers.Dense(1, activation='sigmoid'), # - Output layer with 1 unit and sigmoid activation function (for binary classification).\n",
    "])"
   ]
  },
  {
   "cell_type": "code",
   "execution_count": 18,
   "id": "564b2e5e",
   "metadata": {},
   "outputs": [],
   "source": [
    "# Compile the neural network model with Adam optimizer, binary cross-entropy loss, and accuracy metric.\n",
    "\n",
    "\n",
    "model.compile(optimizer=tf.keras.optimizers.Adam(learning_rate=0.001),\n",
    "             loss=tf.keras.losses.BinaryCrossentropy(),\n",
    "              metrics=['accuracy']\n",
    "             )"
   ]
  },
  {
   "cell_type": "code",
   "execution_count": 19,
   "id": "3b93933e",
   "metadata": {},
   "outputs": [
    {
     "name": "stdout",
     "output_type": "stream",
     "text": [
      "19/19 [==============================] - 1s 3ms/step - loss: 0.6707 - accuracy: 0.5217\n"
     ]
    },
    {
     "data": {
      "text/plain": [
       "[0.6707044839859009, 0.5216666460037231]"
      ]
     },
     "execution_count": 19,
     "metadata": {},
     "output_type": "execute_result"
    }
   ],
   "source": [
    "model.evaluate(X_train, y_train)"
   ]
  },
  {
   "cell_type": "code",
   "execution_count": 20,
   "id": "4eb68f51",
   "metadata": {},
   "outputs": [
    {
     "name": "stdout",
     "output_type": "stream",
     "text": [
      "7/7 [==============================] - 0s 3ms/step - loss: 0.6776 - accuracy: 0.5200\n"
     ]
    },
    {
     "data": {
      "text/plain": [
       "[0.6776232123374939, 0.5199999809265137]"
      ]
     },
     "execution_count": 20,
     "metadata": {},
     "output_type": "execute_result"
    }
   ],
   "source": [
    "model.evaluate(X_val, y_val)"
   ]
  },
  {
   "cell_type": "code",
   "execution_count": 21,
   "id": "ce512c01",
   "metadata": {},
   "outputs": [
    {
     "data": {
      "text/plain": [
       "((600, 8), (600,))"
      ]
     },
     "execution_count": 21,
     "metadata": {},
     "output_type": "execute_result"
    }
   ],
   "source": [
    "X_train.shape, y_train.shape"
   ]
  },
  {
   "cell_type": "code",
   "execution_count": 22,
   "id": "20e3ceee",
   "metadata": {
    "scrolled": false
   },
   "outputs": [
    {
     "name": "stdout",
     "output_type": "stream",
     "text": [
      "Epoch 1/20\n",
      "38/38 [==============================] - 1s 7ms/step - loss: 0.6523 - accuracy: 0.5700 - val_loss: 0.6387 - val_accuracy: 0.6200\n",
      "Epoch 2/20\n",
      "38/38 [==============================] - 0s 5ms/step - loss: 0.6183 - accuracy: 0.6767 - val_loss: 0.6100 - val_accuracy: 0.6650\n",
      "Epoch 3/20\n",
      "38/38 [==============================] - 0s 5ms/step - loss: 0.5933 - accuracy: 0.7133 - val_loss: 0.5873 - val_accuracy: 0.7300\n",
      "Epoch 4/20\n",
      "38/38 [==============================] - 0s 12ms/step - loss: 0.5744 - accuracy: 0.7117 - val_loss: 0.5658 - val_accuracy: 0.7400\n",
      "Epoch 5/20\n",
      "38/38 [==============================] - 0s 5ms/step - loss: 0.5581 - accuracy: 0.7117 - val_loss: 0.5482 - val_accuracy: 0.7550\n",
      "Epoch 6/20\n",
      "38/38 [==============================] - 0s 5ms/step - loss: 0.5448 - accuracy: 0.7067 - val_loss: 0.5348 - val_accuracy: 0.7600\n",
      "Epoch 7/20\n",
      "38/38 [==============================] - 0s 5ms/step - loss: 0.5332 - accuracy: 0.7017 - val_loss: 0.5219 - val_accuracy: 0.7650\n",
      "Epoch 8/20\n",
      "38/38 [==============================] - 0s 5ms/step - loss: 0.5225 - accuracy: 0.7067 - val_loss: 0.5102 - val_accuracy: 0.7700\n",
      "Epoch 9/20\n",
      "38/38 [==============================] - 0s 5ms/step - loss: 0.5144 - accuracy: 0.7083 - val_loss: 0.4990 - val_accuracy: 0.7700\n",
      "Epoch 10/20\n",
      "38/38 [==============================] - 0s 5ms/step - loss: 0.5067 - accuracy: 0.7283 - val_loss: 0.4919 - val_accuracy: 0.7750\n",
      "Epoch 11/20\n",
      "38/38 [==============================] - 0s 5ms/step - loss: 0.5019 - accuracy: 0.7267 - val_loss: 0.4852 - val_accuracy: 0.7700\n",
      "Epoch 12/20\n",
      "38/38 [==============================] - 0s 5ms/step - loss: 0.4969 - accuracy: 0.7317 - val_loss: 0.4826 - val_accuracy: 0.7800\n",
      "Epoch 13/20\n",
      "38/38 [==============================] - 0s 5ms/step - loss: 0.4923 - accuracy: 0.7367 - val_loss: 0.4778 - val_accuracy: 0.7850\n",
      "Epoch 14/20\n",
      "38/38 [==============================] - 0s 5ms/step - loss: 0.4876 - accuracy: 0.7400 - val_loss: 0.4755 - val_accuracy: 0.7800\n",
      "Epoch 15/20\n",
      "38/38 [==============================] - 0s 5ms/step - loss: 0.4847 - accuracy: 0.7417 - val_loss: 0.4729 - val_accuracy: 0.7900\n",
      "Epoch 16/20\n",
      "38/38 [==============================] - 0s 5ms/step - loss: 0.4818 - accuracy: 0.7567 - val_loss: 0.4718 - val_accuracy: 0.7850\n",
      "Epoch 17/20\n",
      "38/38 [==============================] - 0s 5ms/step - loss: 0.4781 - accuracy: 0.7583 - val_loss: 0.4690 - val_accuracy: 0.7950\n",
      "Epoch 18/20\n",
      "38/38 [==============================] - 0s 5ms/step - loss: 0.4761 - accuracy: 0.7683 - val_loss: 0.4667 - val_accuracy: 0.7850\n",
      "Epoch 19/20\n",
      "38/38 [==============================] - 0s 5ms/step - loss: 0.4740 - accuracy: 0.7583 - val_loss: 0.4662 - val_accuracy: 0.7850\n",
      "Epoch 20/20\n",
      "38/38 [==============================] - 0s 5ms/step - loss: 0.4714 - accuracy: 0.7550 - val_loss: 0.4645 - val_accuracy: 0.7850\n"
     ]
    },
    {
     "data": {
      "text/plain": [
       "<keras.src.callbacks.History at 0x1bc728b85b0>"
      ]
     },
     "execution_count": 22,
     "metadata": {},
     "output_type": "execute_result"
    }
   ],
   "source": [
    "model.fit(X_train, y_train, batch_size=16, epochs=20, validation_data=[X_val, y_val])"
   ]
  },
  {
   "cell_type": "code",
   "execution_count": 23,
   "id": "75529f79",
   "metadata": {
    "scrolled": true
   },
   "outputs": [
    {
     "name": "stdout",
     "output_type": "stream",
     "text": [
      "7/7 [==============================] - 0s 4ms/step - loss: 0.4907 - accuracy: 0.7900\n"
     ]
    },
    {
     "data": {
      "text/plain": [
       "[0.49070411920547485, 0.7900000214576721]"
      ]
     },
     "execution_count": 23,
     "metadata": {},
     "output_type": "execute_result"
    }
   ],
   "source": [
    "model.evaluate(X_test,y_test)"
   ]
  },
  {
   "cell_type": "markdown",
   "id": "a8876623",
   "metadata": {},
   "source": [
    "# Conclusion\n",
    "\n",
    "In summary, our neural network model demonstrated its ability to predict the presence or absence of diabetes with a test accuracy of approximately 79%. This achievement signifies a reasonably high level of accuracy in our predictions. \n",
    "\n",
    "While our model performed well, there are opportunities for further enhancement:\n",
    "\n",
    "- **Model Refinement**: Fine-tuning the model architecture and hyperparameters could lead to even better results. Experimenting with different neural network architectures or regularization techniques might be beneficial.\n",
    "\n",
    "- **Exploring Alternative Algorithms**: Future work could involve exploring other machine learning algorithms beyond neural networks. Different models may offer unique advantages in predicting diabetes.\n",
    "\n",
    "- **Hyperparameter Optimization**: A more exhaustive search for optimal hyperparameters could potentially boost the model's accuracy further.\n",
    "\n",
    "In conclusion, this project lays the groundwork for leveraging machine learning to address critical healthcare challenges such as diabetes prediction. It underscores the potential for continued research and development in this area, with the aim of improving the accuracy and applicability of predictive models for real-world healthcare scenarios.\n"
   ]
  }
 ],
 "metadata": {
  "kernelspec": {
   "display_name": "Python 3 (ipykernel)",
   "language": "python",
   "name": "python3"
  },
  "language_info": {
   "codemirror_mode": {
    "name": "ipython",
    "version": 3
   },
   "file_extension": ".py",
   "mimetype": "text/x-python",
   "name": "python",
   "nbconvert_exporter": "python",
   "pygments_lexer": "ipython3",
   "version": "3.10.4"
  }
 },
 "nbformat": 4,
 "nbformat_minor": 5
}
